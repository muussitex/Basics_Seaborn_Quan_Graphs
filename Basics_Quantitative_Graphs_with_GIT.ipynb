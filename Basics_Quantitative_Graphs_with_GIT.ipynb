{
 "cells": [
  {
   "cell_type": "markdown",
   "id": "86952a6a",
   "metadata": {},
   "source": [
    "# Basics of Quantitative Graphs with GIT"
   ]
  },
  {
   "cell_type": "markdown",
   "id": "632b7c8f",
   "metadata": {},
   "source": [
    "Matti Kuikka 18.9.2023\n",
    "- Some examples about graphs for quantitative data and assignments\n",
    "- Examples are done with Seaborn\n",
    "- Similar graphs can be done also with Matplotlib and Pandas\n"
   ]
  },
  {
   "cell_type": "code",
   "execution_count": null,
   "id": "508de60e",
   "metadata": {},
   "outputs": [],
   "source": [
    "# Take libraries in use\n",
    "import pandas as pd\n",
    "import numpy as np\n",
    "import matplotlib as mp\n",
    "import matplotlib.pyplot as plt \n",
    "import seaborn as sns "
   ]
  },
  {
   "cell_type": "markdown",
   "id": "ba0721ec",
   "metadata": {},
   "source": [
    "## Load dataset "
   ]
  },
  {
   "cell_type": "markdown",
   "id": "c823aecd",
   "metadata": {},
   "source": [
    "### Read iris (flowers) dataset  "
   ]
  },
  {
   "cell_type": "markdown",
   "id": "55972eff",
   "metadata": {},
   "source": [
    "The Iris flower data set or Fisher's Iris data set is a multivariate data set introduced by the British statistician and biologist Ronald Fisher.\n",
    "\n",
    "The data set consists of 50 samples from each of three species of Iris (Iris setosa, Iris virginica and Iris versicolor). Four features were measured from each sample: the length and the width of the sepals and petals, in centimetres. \n",
    "\n",
    "Based on the combination of these four features, Fisher developed a linear discriminant model to distinguish the species from each other.\n",
    "\n",
    "Data is available in various formats (CSV, JSON) or can be read also in methods (e.g. with Seaborn load_data or Scikit-Learn load_iris.\n",
    "\n",
    "https://en.wikipedia.org/wiki/Iris_flower_data_set"
   ]
  },
  {
   "cell_type": "code",
   "execution_count": null,
   "id": "8b49039d",
   "metadata": {},
   "outputs": [],
   "source": [
    "# Read iris data using Seaborn 'load_dataset'\n",
    "df = sns.load_dataset('iris')\n",
    "df.shape # present structure: number of rows and columns"
   ]
  },
  {
   "cell_type": "code",
   "execution_count": null,
   "id": "e07b66a9",
   "metadata": {},
   "outputs": [],
   "source": [
    "# Present data types of dataset\n",
    "df.dtypes"
   ]
  },
  {
   "cell_type": "code",
   "execution_count": null,
   "id": "2e014a12",
   "metadata": {},
   "outputs": [],
   "source": [
    "df"
   ]
  },
  {
   "cell_type": "markdown",
   "id": "3326ae5f",
   "metadata": {},
   "source": [
    "If you like to display all the rows, there are several methods\n",
    "- see guidance e.g. in https://www.geeksforgeeks.org/how-to-display-all-rows-from-dataframe-using-pandas/ \n",
    "- Below one method using Pandas method set_option"
   ]
  },
  {
   "cell_type": "code",
   "execution_count": null,
   "id": "c2d534b3",
   "metadata": {},
   "outputs": [],
   "source": [
    "# Set it None to display\n",
    "# all rows in the dataframe\n",
    "pd.set_option('display.max_rows', None)\n",
    "df"
   ]
  },
  {
   "cell_type": "markdown",
   "id": "9d21a1f6",
   "metadata": {},
   "source": [
    "## Examine iris dataset"
   ]
  },
  {
   "cell_type": "markdown",
   "id": "4e6dfe47",
   "metadata": {},
   "source": [
    "### Quantitative measurements\n",
    "- Easiest way to describe key data for quantitative data is to use 'describe()'\n",
    "- It prints frequency (count), mean, standard deviation and the so called \"Five-number summary\"\n",
    "-- Mininimum value\n",
    "-- 1st quartile (25%) - value representing point where 25% from smallest are included\n",
    "-- median (50%), 2nd quartile - value representing middle value of the data set\n",
    "-- 3rd quartile (75%) - value representing point where 75% from smallest are included\n",
    "-- Maximu value "
   ]
  },
  {
   "cell_type": "code",
   "execution_count": null,
   "id": "0432447b",
   "metadata": {},
   "outputs": [],
   "source": [
    "# find measurements for quantitative data\n",
    "df.describe()"
   ]
  },
  {
   "cell_type": "markdown",
   "id": "ff7043b1",
   "metadata": {},
   "source": [
    "### Graphs"
   ]
  },
  {
   "cell_type": "markdown",
   "id": "6d5630be",
   "metadata": {},
   "source": [
    "#### 1. Histogram where quantitative data is separeted by species  \n",
    "- Use Seaborn: https://seaborn.pydata.org/generated/seaborn.histplot.html"
   ]
  },
  {
   "cell_type": "code",
   "execution_count": null,
   "id": "f39cb07c",
   "metadata": {},
   "outputs": [],
   "source": [
    "sns.histplot?"
   ]
  },
  {
   "cell_type": "code",
   "execution_count": null,
   "id": "562c277c",
   "metadata": {},
   "outputs": [],
   "source": [
    "# parameter kde = True draws curve in histograms\n",
    "# parameter hue separates data using qualitative data\n",
    "sns.histplot(data = df, x= 'sepal_length',bins=15, hue = 'species', kde = True) \n",
    "plt.xlabel('Sepal length (cm)', fontsize=14)\n",
    "plt.ylabel('Freq', fontsize=12)   \n",
    "plt.title(\"Histogram for iris species\", fontsize=18)\n",
    "plt.show()"
   ]
  },
  {
   "cell_type": "code",
   "execution_count": null,
   "id": "6b9f852a",
   "metadata": {},
   "outputs": [],
   "source": [
    "# parameter multiple = 'dodge' draws onwn bar per qualitative data\n",
    "sns.histplot(data = df, x= 'petal_length',bins=15, hue = 'species', kde = True, multiple = 'dodge') \n",
    "plt.xlabel('Petal length (cm)', fontsize=14)\n",
    "plt.ylabel('Freq', fontsize=12)   \n",
    "plt.title(\"Histogram for iris species\", fontsize=18)\n",
    "plt.show()"
   ]
  },
  {
   "cell_type": "markdown",
   "id": "8c806427",
   "metadata": {},
   "source": [
    "#### Task: Create histogram for sepal width"
   ]
  },
  {
   "cell_type": "code",
   "execution_count": null,
   "id": "be10264f",
   "metadata": {},
   "outputs": [],
   "source": [
    "# Your code in here"
   ]
  },
  {
   "cell_type": "code",
   "execution_count": null,
   "id": "783fae5a",
   "metadata": {},
   "outputs": [],
   "source": []
  },
  {
   "cell_type": "markdown",
   "id": "d937d435",
   "metadata": {},
   "source": [
    "##### 2. Box plot can be variation of quantitative variables\n",
    "- It shows minimum, maximum, value for 1. quartile (25%), median (50%), 3. quartile (75%) in graphical presentation\n",
    "Use Seaborn: https://seaborn.pydata.org/generated/seaborn.boxplot.html"
   ]
  },
  {
   "cell_type": "code",
   "execution_count": null,
   "id": "44db312e",
   "metadata": {},
   "outputs": [],
   "source": [
    "sns.boxplot?"
   ]
  },
  {
   "cell_type": "code",
   "execution_count": null,
   "id": "6997451b",
   "metadata": {},
   "outputs": [],
   "source": [
    "# parameter multiple = 'dodge' draws onwn bar per qualitative data\n",
    "sns.boxplot(data = df, x= 'species', y = 'petal_length') \n",
    "plt.ylabel('Petal length (cm)', fontsize=12)\n",
    "# plt.ylabel('', fontsize=12)   \n",
    "plt.title(\"Boxplot for iris species\", fontsize=18)\n",
    "plt.show()"
   ]
  },
  {
   "cell_type": "markdown",
   "id": "8db3d09a",
   "metadata": {},
   "source": [
    "#### Task: Create similar figures for Sepal lenght and width "
   ]
  },
  {
   "cell_type": "code",
   "execution_count": null,
   "id": "9d9da49a",
   "metadata": {},
   "outputs": [],
   "source": [
    "# Your code in here"
   ]
  },
  {
   "cell_type": "code",
   "execution_count": null,
   "id": "17d40cc3",
   "metadata": {},
   "outputs": [],
   "source": []
  },
  {
   "cell_type": "markdown",
   "id": "103defff",
   "metadata": {},
   "source": [
    "##### 3. Scatter diagrams can be used to see relations of quantitative variables \n",
    "- Use Seaborn: https://seaborn.pydata.org/generated/seaborn.scatterplot.html"
   ]
  },
  {
   "cell_type": "code",
   "execution_count": null,
   "id": "c1e61216",
   "metadata": {},
   "outputs": [],
   "source": [
    "sns.scatterplot?"
   ]
  },
  {
   "cell_type": "code",
   "execution_count": null,
   "id": "872f8330",
   "metadata": {},
   "outputs": [],
   "source": [
    "# Two quantitative variables, one in x and another in y\n",
    "sns.scatterplot(data = df, x= 'petal_length', y= 'sepal_length', hue = 'species') \n",
    "plt.xlabel('Petal length (cm)', fontsize=12)\n",
    "plt.ylabel('Sepal length (cm)', fontsize=12)   \n",
    "plt.title(\"Scatter diagram for iris species\", fontsize=18)\n",
    "plt.show()"
   ]
  },
  {
   "cell_type": "markdown",
   "id": "c742c5ad",
   "metadata": {},
   "source": [
    "##### Same figure can also include separate graphs\n",
    "- Use Seaborn: https://seaborn.pydata.org/generated/seaborn.relplot.html"
   ]
  },
  {
   "cell_type": "code",
   "execution_count": null,
   "id": "3518c3c5",
   "metadata": {},
   "outputs": [],
   "source": [
    "sns.relplot?"
   ]
  },
  {
   "cell_type": "code",
   "execution_count": null,
   "id": "1768869d",
   "metadata": {},
   "outputs": [],
   "source": [
    "# With parameter col and row there is possible to get own graphs per qualitative variable \n",
    "# Parameter col_wrap restrict the number of graphs per row\n",
    "sns.relplot(data = df, x= 'sepal_width', y= 'sepal_length', col = 'species', col_wrap = 2) "
   ]
  },
  {
   "cell_type": "markdown",
   "id": "f0acf8ec",
   "metadata": {},
   "source": [
    "#### 4. Pairplot\n",
    "- Pairplot can be used to present in same figure easily scatter diagrams and histograms for dataset"
   ]
  },
  {
   "cell_type": "code",
   "execution_count": null,
   "id": "9fb78623",
   "metadata": {},
   "outputs": [],
   "source": [
    "sns.pairplot?"
   ]
  },
  {
   "cell_type": "code",
   "execution_count": null,
   "id": "938aa8a7",
   "metadata": {},
   "outputs": [],
   "source": [
    "sns.pairplot(data = df) "
   ]
  },
  {
   "cell_type": "markdown",
   "id": "bf21010e",
   "metadata": {},
   "source": [
    "#### Task: Use pairplot and present data separated by species \n",
    "- How you do this?\n",
    "- Create the figure"
   ]
  },
  {
   "cell_type": "code",
   "execution_count": null,
   "id": "03814b64",
   "metadata": {},
   "outputs": [],
   "source": [
    "# Your code in here"
   ]
  },
  {
   "cell_type": "code",
   "execution_count": null,
   "id": "1d31f523",
   "metadata": {},
   "outputs": [],
   "source": []
  }
 ],
 "metadata": {
  "kernelspec": {
   "display_name": "Python 3 (ipykernel)",
   "language": "python",
   "name": "python3"
  },
  "language_info": {
   "codemirror_mode": {
    "name": "ipython",
    "version": 3
   },
   "file_extension": ".py",
   "mimetype": "text/x-python",
   "name": "python",
   "nbconvert_exporter": "python",
   "pygments_lexer": "ipython3",
   "version": "3.9.13"
  }
 },
 "nbformat": 4,
 "nbformat_minor": 5
}
